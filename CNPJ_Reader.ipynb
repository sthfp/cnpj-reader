{
 "cells": [
  {
   "cell_type": "markdown",
   "metadata": {},
   "source": [
    "1. Instalar bibliotecas não-nativas"
   ]
  },
  {
   "cell_type": "code",
   "execution_count": 12,
   "metadata": {},
   "outputs": [
    {
     "name": "stdout",
     "output_type": "stream",
     "text": [
      "Requirement already satisfied: requests in c:\\users\\sthefp\\appdata\\local\\packages\\pythonsoftwarefoundation.python.3.8_qbz5n2kfra8p0\\localcache\\local-packages\\python38\\site-packages (2.31.0)\n",
      "Requirement already satisfied: charset-normalizer<4,>=2 in c:\\users\\sthefp\\appdata\\local\\packages\\pythonsoftwarefoundation.python.3.8_qbz5n2kfra8p0\\localcache\\local-packages\\python38\\site-packages (from requests) (3.3.2)\n",
      "Requirement already satisfied: idna<4,>=2.5 in c:\\users\\sthefp\\appdata\\local\\packages\\pythonsoftwarefoundation.python.3.8_qbz5n2kfra8p0\\localcache\\local-packages\\python38\\site-packages (from requests) (3.4)\n",
      "Requirement already satisfied: urllib3<3,>=1.21.1 in c:\\users\\sthefp\\appdata\\local\\packages\\pythonsoftwarefoundation.python.3.8_qbz5n2kfra8p0\\localcache\\local-packages\\python38\\site-packages (from requests) (1.26.12)\n",
      "Requirement already satisfied: certifi>=2017.4.17 in c:\\users\\sthefp\\appdata\\local\\packages\\pythonsoftwarefoundation.python.3.8_qbz5n2kfra8p0\\localcache\\local-packages\\python38\\site-packages (from requests) (2022.9.24)\n"
     ]
    },
    {
     "name": "stderr",
     "output_type": "stream",
     "text": [
      "\n",
      "[notice] A new release of pip is available: 23.3.1 -> 23.3.2\n",
      "[notice] To update, run: C:\\Users\\sthefp\\AppData\\Local\\Microsoft\\WindowsApps\\PythonSoftwareFoundation.Python.3.8_qbz5n2kfra8p0\\python.exe -m pip install --upgrade pip\n"
     ]
    },
    {
     "name": "stdout",
     "output_type": "stream",
     "text": [
      "Requirement already satisfied: plyer in c:\\users\\sthefp\\appdata\\local\\packages\\pythonsoftwarefoundation.python.3.8_qbz5n2kfra8p0\\localcache\\local-packages\\python38\\site-packages (2.1.0)\n"
     ]
    },
    {
     "name": "stderr",
     "output_type": "stream",
     "text": [
      "\n",
      "[notice] A new release of pip is available: 23.3.1 -> 23.3.2\n",
      "[notice] To update, run: C:\\Users\\sthefp\\AppData\\Local\\Microsoft\\WindowsApps\\PythonSoftwareFoundation.Python.3.8_qbz5n2kfra8p0\\python.exe -m pip install --upgrade pip\n"
     ]
    }
   ],
   "source": [
    "!pip install requests \n",
    "!pip install plyer"
   ]
  },
  {
   "cell_type": "markdown",
   "metadata": {},
   "source": [
    "2. Importar bibliotecas"
   ]
  },
  {
   "cell_type": "code",
   "execution_count": 13,
   "metadata": {},
   "outputs": [],
   "source": [
    "from plyer import notification \n",
    "from datetime import datetime\n",
    "import pandas as pd \n",
    "import requests "
   ]
  },
  {
   "cell_type": "markdown",
   "metadata": {},
   "source": [
    "### ETL"
   ]
  },
  {
   "cell_type": "markdown",
   "metadata": {},
   "source": [
    "- Base de dados \"Corretoras\""
   ]
  },
  {
   "cell_type": "code",
   "execution_count": 14,
   "metadata": {},
   "outputs": [],
   "source": [
    "base = \"CORRETORAS\"\n",
    "etapa = \"EXTRACAO\"\n",
    "\n",
    "# Extract\n",
    "def corretoras_database():\n",
    "    try:\n",
    "        url1 = \"https://brasilapi.com.br/api/cvm/corretoras/v1\"\n",
    "        response = requests.get(url1, timeout=3)\n",
    "\n",
    "        if response.status_code == 200:\n",
    "            data_corretoras = response.json()\n",
    "            corretoras_full = pd.DataFrame(data_corretoras)\n",
    "            return corretoras_full\n",
    "    \n",
    "        else:\n",
    "            today = datetime.today()\n",
    "            notification.notify(\n",
    "\n",
    "                    title=\"ATENÇÃO: Alerta Baixo\",\n",
    "\n",
    "                    message=f\"Falha no carregamento da base {base} na etapa {etapa}\\n{today}\",\n",
    "\n",
    "                    timeout=10 )   \n",
    "    except requests.exceptions.Timeout:\n",
    "        print(\"This request has timeout, try again later\")\n",
    "\n",
    "#Load\n",
    "corretoras_database().to_excel(\"corretoras_database.xlsx\", index = False)\n",
    "\n"
   ]
  },
  {
   "cell_type": "markdown",
   "metadata": {},
   "source": [
    "- Base de dados \"CNPJ\""
   ]
  },
  {
   "cell_type": "code",
   "execution_count": 16,
   "metadata": {},
   "outputs": [],
   "source": [
    "base = \"CNPJ\"\n",
    "etapa = \"EXTRACAO\"\n",
    "\n",
    "#Extract\n",
    "\n",
    "def cnpj_database():\n",
    "    lista_cnpj = corretoras_database()['cnpj']\n",
    "    cnpj_full = []\n",
    "\n",
    "    for cnpj in lista_cnpj:\n",
    "        try:\n",
    "            url = 'https://brasilapi.com.br/api/cnpj/v1/{}'.format(cnpj)\n",
    "            response = requests.get(url, timeout=3)\n",
    "        except requests.exceptions.Timeout:\n",
    "            continue\n",
    "            \n",
    "        if response.status_code == 200:\n",
    "            data_cnpj = response.json()\n",
    "            cnpj_full.append([data_cnpj['uf'], data_cnpj['cep'], data_cnpj['cnpj'],\n",
    "                            data_cnpj['porte'],data_cnpj['numero'],data_cnpj['bairro'],\n",
    "                            data_cnpj['ddd_fax'],data_cnpj['cnae_fiscal'],data_cnpj['complemento'],\n",
    "                            data_cnpj['razao_social'],data_cnpj['nome_fantasia'],data_cnpj['ddd_telefone_1'],\n",
    "                            data_cnpj['ddd_telefone_2'],data_cnpj['opcao_pelo_mei'],data_cnpj['codigo_municipio'],\n",
    "                            data_cnpj['natureza_juridica'],data_cnpj['data_opcao_pelo_mei'],data_cnpj['data_exclusao_do_mei'],\n",
    "                            data_cnpj['data_inicio_atividade'],data_cnpj['data_situacao_especial'],data_cnpj['opcao_pelo_simples'],\n",
    "                            data_cnpj['data_opcao_pelo_simples'],data_cnpj['data_exclusao_do_simples'],data_cnpj['descricao_situacao_cadastral']])\n",
    "        else:\n",
    "            today = datetime.today()\n",
    "            notification.notify(\n",
    "\n",
    "                title=\"ATENÇÃO: Alerta Baixo\",\n",
    "\n",
    "                message=f\"Falha no carregamento da base {base} na etapa {etapa}\\n{today}\",\n",
    "\n",
    "                timeout=10 )\n",
    "\n",
    "# Transform\n",
    "            \n",
    "    cnpj_full = pd.DataFrame(cnpj_full, columns=[\"UF\",\"CEP\",\"CNPJ\",\"Porte\",\"Numero\",\"Bairro\",\"Fax\",\"CNAE\",\"Complemento\",\"Razao Social\",\n",
    "                                                \"Nome Fantasia\",\"Telefone 1\",\"Telefone 2\",\"Opcao pelo MEI\",\"Codigo Municipio\",\"Natureza Juridica\",\n",
    "                                                \"Data Opcao pelo MEI\",\"Data Exclusao MEI\",\"Data Inicio da Atividade\",\"Data Situacao Especial\",\n",
    "                                                \"Opcao pelo Simples\",\"Data Opcao pelo Simples\",\"Data Exclusao do Simples\",\"Descricao Situacao Cadastral\"])\n",
    "    return cnpj_full\n",
    "\n",
    "# Load \n",
    "\n",
    "cnpj_database().to_excel(\"cnpj_database.xlsx\", index = False)\n"
   ]
  },
  {
   "cell_type": "markdown",
   "metadata": {},
   "source": [
    "- Base de dados \"CEP\""
   ]
  },
  {
   "cell_type": "code",
   "execution_count": 17,
   "metadata": {},
   "outputs": [],
   "source": [
    "\n",
    "base = \"CEP\"\n",
    "etapa = \"EXTRACAO\"\n",
    "\n",
    "#Extract\n",
    "\n",
    "def cep_database():\n",
    "    lista_cep = corretoras_database()['cep']\n",
    "    cep_full = []\n",
    "\n",
    "    for cep in lista_cep:\n",
    "        try:\n",
    "            url = 'https://brasilapi.com.br/api/cep/v2/{}'.format(cep)\n",
    "            response = requests.get(url, timeout=3)\n",
    "            \n",
    "        except requests.exceptions.Timeout:\n",
    "            continue    \n",
    "\n",
    "        if response.status_code == 200:\n",
    "            data_cep = response.json()\n",
    "            cep_full.append([data_cep['cep'], data_cep['state'], data_cep['city'], data_cep['street']])\n",
    "        else:\n",
    "            today = datetime.today()\n",
    "            notification.notify(\n",
    "\n",
    "                title=\"ATENÇÃO: Alerta Baixo\",\n",
    "\n",
    "                message=f\"Falha no carregamento da base {base} na etapa {etapa}\\n{today}\",\n",
    "\n",
    "                timeout=10 )\n",
    "\n",
    "        \n",
    "# Transform\n",
    "            \n",
    "    cep_full = pd.DataFrame(cep_full, columns=[\"CEP\",\"UF\",\"Cidade\",\"Logradouro\"])\n",
    "    return cep_full\n",
    "\n",
    "# Load\n",
    "\n",
    "cep_database().to_excel(\"cep_database.xlsx\", index = False)"
   ]
  }
 ],
 "metadata": {
  "kernelspec": {
   "display_name": "Python 3",
   "language": "python",
   "name": "python3"
  },
  "language_info": {
   "codemirror_mode": {
    "name": "ipython",
    "version": 3
   },
   "file_extension": ".py",
   "mimetype": "text/x-python",
   "name": "python",
   "nbconvert_exporter": "python",
   "pygments_lexer": "ipython3",
   "version": "3.8.10"
  }
 },
 "nbformat": 4,
 "nbformat_minor": 2
}
